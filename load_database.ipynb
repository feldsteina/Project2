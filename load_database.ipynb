{
 "cells": [
  {
   "cell_type": "code",
   "execution_count": 1,
   "metadata": {},
   "outputs": [],
   "source": [
    "from sqlalchemy import create_engine\n",
    "import pandas as pd\n",
    "import os.path as os\n",
    "from db_access import db_user, db_pass, db_address"
   ]
  },
  {
   "cell_type": "code",
   "execution_count": 2,
   "metadata": {},
   "outputs": [],
   "source": [
    "inspection_path = os.join(\".\",\"restaurant_inspections_clean.csv\")\n",
    "inspection_df = pd.read_csv(inspection_path)\n",
    "\n",
    "yelp_restaurant_path = os.join(\".\",\"yelp_la_restaurants.csv\")\n",
    "yelp_restaurant_df = pd.read_csv(yelp_restaurant_path)\n",
    "\n",
    "yelp_review_path = os.join(\".\",\"yelp_reviews.csv\")\n",
    "yelp_review_df = pd.read_csv(yelp_review_path)"
   ]
  },
  {
   "cell_type": "code",
   "execution_count": 5,
   "metadata": {},
   "outputs": [],
   "source": [
    "connection_string = f\"{db_user}:{db_pass}@{db_address}/restaurant_db\"\n",
    "engine = create_engine(f\"mysql://{connection_string}\")"
   ]
  }
 ],
 "metadata": {
  "kernelspec": {
   "display_name": "Python 3",
   "language": "python",
   "name": "python3"
  },
  "language_info": {
   "codemirror_mode": {
    "name": "ipython",
    "version": 3
   },
   "file_extension": ".py",
   "mimetype": "text/x-python",
   "name": "python",
   "nbconvert_exporter": "python",
   "pygments_lexer": "ipython3",
   "version": "3.6.7"
  }
 },
 "nbformat": 4,
 "nbformat_minor": 2
}
